{
 "cells": [
  {
   "cell_type": "markdown",
   "metadata": {},
   "source": [
    "## Age and Gender Recognition \n",
    "\n",
    "Age and gender classification from facial images is an important task in computer vision, with various applications in advertising, healthcare and security. \n",
    "\n",
    "This notebook will focus on using the UTKFace dataset, a diverse collection of over 20,000 facial images, annotated with age, gender and ethnicity. \n",
    "Dataset: \n",
    "https://www.kaggle.com/datasets/jangedoo/utkface-new/code\n",
    "\n",
    "Here, I will employ convolutional neural networks (CNNs), which have demonstrated great performance in image classification tasks, to predict age and gender from these types of images. The goal of this exercise is to develop, and optimise a model that accurately classifies age and gender, whilst addressing the shortcomings involved. \n"
   ]
  },
  {
   "cell_type": "markdown",
   "metadata": {},
   "source": [
    "## Import Modules\n",
    "\n",
    "First, import the necessary libraries for data processing, model building and evaluation. "
   ]
  },
  {
   "cell_type": "code",
   "execution_count": 18,
   "metadata": {},
   "outputs": [],
   "source": [
    "import pandas as pd\n",
    "import numpy as np\n",
    "import os \n",
    "import warnings\n",
    "import matplotlib.pyplot as plt \n",
    "import seaborn as sns \n",
    "from tqdm.notebook import tqdm \n",
    "\n",
    "warnings.filterwarnings('ignore')\n",
    "%matplotlib inline\n",
    "\n",
    "import tensorflow as tf \n",
    "from tensorflow.keras.preprocessing.image import load_img\n",
    "from keras.models import Sequential, Model \n",
    "from keras.layers import Dense, Conv2D, Dropout, Flatten, MaxPooling2D, Input"
   ]
  },
  {
   "cell_type": "markdown",
   "metadata": {},
   "source": [
    "## Load the Dataset "
   ]
  },
  {
   "cell_type": "markdown",
   "metadata": {},
   "source": [
    "First, t"
   ]
  },
  {
   "cell_type": "code",
   "execution_count": 2,
   "metadata": {},
   "outputs": [],
   "source": [
    "import opendatasets as od \n",
    "dataset = 'https://www.kaggle.com/datasets/jangedoo/utkface-new/data'"
   ]
  },
  {
   "cell_type": "markdown",
   "metadata": {},
   "source": [
    "Downloading the dataset from https://www.kaggle.com/datasets/jangedoo/utkface-new/data"
   ]
  },
  {
   "cell_type": "code",
   "execution_count": 3,
   "metadata": {},
   "outputs": [
    {
     "name": "stdout",
     "output_type": "stream",
     "text": [
      "Skipping, found downloaded files in \".\\utkface-new\" (use force=True to force download)\n"
     ]
    }
   ],
   "source": [
    "od.download(dataset)"
   ]
  },
  {
   "cell_type": "code",
   "execution_count": 11,
   "metadata": {},
   "outputs": [],
   "source": [
    "DATA_DIR = './utkface-new/UTKFace/'"
   ]
  },
  {
   "cell_type": "code",
   "execution_count": 15,
   "metadata": {},
   "outputs": [
    {
     "name": "stderr",
     "output_type": "stream",
     "text": [
      "100%|██████████| 23708/23708 [00:00<00:00, 192705.53it/s]\n"
     ]
    }
   ],
   "source": [
    "# Initialize lists to store image paths, ages, and genders\n",
    "image_files = []\n",
    "ages = []\n",
    "genders = []\n",
    "\n",
    "# Process each file in the directory\n",
    "for file in tqdm(os.listdir(DATA_DIR)):\n",
    "    full_path = os.path.join(DATA_DIR, file)  # Get full file path\n",
    "    parts = file.split('_')  # Split filename based on the underscore delimiter\n",
    "    image_age = int(parts[0])  # Age is the first part\n",
    "    image_gender = int(parts[1])  # Gender is the second part\n",
    "\n",
    "    # Append extracted data to respective lists\n",
    "    image_files.append(full_path)\n",
    "    ages.append(image_age)\n",
    "    genders.append(image_gender)\n"
   ]
  },
  {
   "cell_type": "code",
   "execution_count": 16,
   "metadata": {},
   "outputs": [
    {
     "data": {
      "text/html": [
       "<div>\n",
       "<style scoped>\n",
       "    .dataframe tbody tr th:only-of-type {\n",
       "        vertical-align: middle;\n",
       "    }\n",
       "\n",
       "    .dataframe tbody tr th {\n",
       "        vertical-align: top;\n",
       "    }\n",
       "\n",
       "    .dataframe thead th {\n",
       "        text-align: right;\n",
       "    }\n",
       "</style>\n",
       "<table border=\"1\" class=\"dataframe\">\n",
       "  <thead>\n",
       "    <tr style=\"text-align: right;\">\n",
       "      <th></th>\n",
       "      <th>image</th>\n",
       "      <th>age</th>\n",
       "      <th>gender</th>\n",
       "    </tr>\n",
       "  </thead>\n",
       "  <tbody>\n",
       "    <tr>\n",
       "      <th>0</th>\n",
       "      <td>./utkface-new/UTKFace/100_0_0_2017011221350090...</td>\n",
       "      <td>100</td>\n",
       "      <td>0</td>\n",
       "    </tr>\n",
       "    <tr>\n",
       "      <th>1</th>\n",
       "      <td>./utkface-new/UTKFace/100_0_0_2017011221524034...</td>\n",
       "      <td>100</td>\n",
       "      <td>0</td>\n",
       "    </tr>\n",
       "    <tr>\n",
       "      <th>2</th>\n",
       "      <td>./utkface-new/UTKFace/100_1_0_2017011018372639...</td>\n",
       "      <td>100</td>\n",
       "      <td>1</td>\n",
       "    </tr>\n",
       "    <tr>\n",
       "      <th>3</th>\n",
       "      <td>./utkface-new/UTKFace/100_1_0_2017011221300198...</td>\n",
       "      <td>100</td>\n",
       "      <td>1</td>\n",
       "    </tr>\n",
       "    <tr>\n",
       "      <th>4</th>\n",
       "      <td>./utkface-new/UTKFace/100_1_0_2017011221330369...</td>\n",
       "      <td>100</td>\n",
       "      <td>1</td>\n",
       "    </tr>\n",
       "  </tbody>\n",
       "</table>\n",
       "</div>"
      ],
      "text/plain": [
       "                                               image  age  gender\n",
       "0  ./utkface-new/UTKFace/100_0_0_2017011221350090...  100       0\n",
       "1  ./utkface-new/UTKFace/100_0_0_2017011221524034...  100       0\n",
       "2  ./utkface-new/UTKFace/100_1_0_2017011018372639...  100       1\n",
       "3  ./utkface-new/UTKFace/100_1_0_2017011221300198...  100       1\n",
       "4  ./utkface-new/UTKFace/100_1_0_2017011221330369...  100       1"
      ]
     },
     "execution_count": 16,
     "metadata": {},
     "output_type": "execute_result"
    }
   ],
   "source": [
    "#Convert to dataframe \n",
    "df = pd.DataFrame()\n",
    "df['image'], df['age'], df['gender'] = image_paths, age_labels, gender_labels\n",
    "df.head()"
   ]
  }
 ],
 "metadata": {
  "kernelspec": {
   "display_name": "tf2_cpu",
   "language": "python",
   "name": "python3"
  },
  "language_info": {
   "codemirror_mode": {
    "name": "ipython",
    "version": 3
   },
   "file_extension": ".py",
   "mimetype": "text/x-python",
   "name": "python",
   "nbconvert_exporter": "python",
   "pygments_lexer": "ipython3",
   "version": "3.10.12"
  }
 },
 "nbformat": 4,
 "nbformat_minor": 2
}
